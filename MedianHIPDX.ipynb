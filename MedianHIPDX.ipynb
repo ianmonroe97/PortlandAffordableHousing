{
 "cells": [
  {
   "cell_type": "code",
   "execution_count": 1,
   "id": "543f5d56-3dd7-487b-a6bc-6da73476593a",
   "metadata": {},
   "outputs": [],
   "source": [
    "import pandas as pd \n",
    "import numpy as np"
   ]
  },
  {
   "cell_type": "code",
   "execution_count": 2,
   "id": "cdb9d95b-1a47-4e5b-9afc-e87bc3a1bf5f",
   "metadata": {},
   "outputs": [],
   "source": [
    "MedianHI = pd.read_csv('/Users/ianmonroe/Desktop/Estimate of Median Household Income for Multnomah County, OR.csv')"
   ]
  },
  {
   "cell_type": "code",
   "execution_count": 3,
   "id": "77d02d82-cf94-4be8-8e9a-b3167071b19e",
   "metadata": {},
   "outputs": [
    {
     "data": {
      "text/html": [
       "<div>\n",
       "<style scoped>\n",
       "    .dataframe tbody tr th:only-of-type {\n",
       "        vertical-align: middle;\n",
       "    }\n",
       "\n",
       "    .dataframe tbody tr th {\n",
       "        vertical-align: top;\n",
       "    }\n",
       "\n",
       "    .dataframe thead th {\n",
       "        text-align: right;\n",
       "    }\n",
       "</style>\n",
       "<table border=\"1\" class=\"dataframe\">\n",
       "  <thead>\n",
       "    <tr style=\"text-align: right;\">\n",
       "      <th></th>\n",
       "      <th>DATE</th>\n",
       "      <th>MHIOR41051A052NCEN</th>\n",
       "    </tr>\n",
       "  </thead>\n",
       "  <tbody>\n",
       "    <tr>\n",
       "      <th>count</th>\n",
       "      <td>31</td>\n",
       "      <td>31</td>\n",
       "    </tr>\n",
       "    <tr>\n",
       "      <th>unique</th>\n",
       "      <td>31</td>\n",
       "      <td>27</td>\n",
       "    </tr>\n",
       "    <tr>\n",
       "      <th>top</th>\n",
       "      <td>1992-01-01</td>\n",
       "      <td>.</td>\n",
       "    </tr>\n",
       "    <tr>\n",
       "      <th>freq</th>\n",
       "      <td>1</td>\n",
       "      <td>5</td>\n",
       "    </tr>\n",
       "  </tbody>\n",
       "</table>\n",
       "</div>"
      ],
      "text/plain": [
       "              DATE MHIOR41051A052NCEN\n",
       "count           31                 31\n",
       "unique          31                 27\n",
       "top     1992-01-01                  .\n",
       "freq             1                  5"
      ]
     },
     "execution_count": 3,
     "metadata": {},
     "output_type": "execute_result"
    }
   ],
   "source": [
    "MedianHI.describe()"
   ]
  },
  {
   "cell_type": "code",
   "execution_count": 4,
   "id": "c1f4294b-9de6-4e6f-b4b0-587595797a49",
   "metadata": {},
   "outputs": [
    {
     "data": {
      "text/plain": [
       "Index(['DATE', 'MHIOR41051A052NCEN'], dtype='object')"
      ]
     },
     "execution_count": 4,
     "metadata": {},
     "output_type": "execute_result"
    }
   ],
   "source": [
    "MedianHI.columns"
   ]
  },
  {
   "cell_type": "code",
   "execution_count": 5,
   "id": "2a073cd2-6c24-463e-8879-88cca7b2dc38",
   "metadata": {},
   "outputs": [
    {
     "name": "stdout",
     "output_type": "stream",
     "text": [
      "          DATE MHIOR41051A052NCEN\n",
      "0   1989-01-01              26778\n",
      "1   1990-01-01                  .\n",
      "2   1991-01-01                  .\n",
      "3   1992-01-01                  .\n",
      "4   1993-01-01              29759\n",
      "5   1994-01-01                  .\n",
      "6   1995-01-01              34966\n",
      "7   1996-01-01                  .\n",
      "8   1997-01-01              38225\n",
      "9   1998-01-01              40038\n",
      "10  1999-01-01              40608\n",
      "11  2000-01-01              43153\n",
      "12  2001-01-01              42422\n",
      "13  2002-01-01              41553\n",
      "14  2003-01-01              41781\n",
      "15  2004-01-01              42334\n",
      "16  2005-01-01              43055\n",
      "17  2006-01-01              45542\n",
      "18  2007-01-01              48876\n",
      "19  2008-01-01              51372\n",
      "20  2009-01-01              50604\n",
      "21  2010-01-01              48018\n",
      "22  2011-01-01              46989\n",
      "23  2012-01-01              51580\n",
      "24  2013-01-01              53624\n",
      "25  2014-01-01              53519\n",
      "26  2015-01-01              58764\n",
      "27  2016-01-01              62292\n",
      "28  2017-01-01              63587\n",
      "29  2018-01-01              70756\n",
      "30  2019-01-01              72469\n"
     ]
    }
   ],
   "source": [
    "print(MedianHI)"
   ]
  },
  {
   "cell_type": "code",
   "execution_count": 6,
   "id": "4c5afcb5-9197-47bd-bb23-32a9a53ceae0",
   "metadata": {},
   "outputs": [],
   "source": [
    "MedianHI.rename(columns = {'DATE':'Date', 'MHIOR41051A052NCEN':'MedianHouseholdIncome'},inplace=True)"
   ]
  },
  {
   "cell_type": "code",
   "execution_count": 7,
   "id": "33eea947-af27-43c0-959e-cb9ec9d26e42",
   "metadata": {},
   "outputs": [
    {
     "data": {
      "text/plain": [
       "count     31\n",
       "unique    27\n",
       "top        .\n",
       "freq       5\n",
       "Name: MedianHouseholdIncome, dtype: object"
      ]
     },
     "execution_count": 7,
     "metadata": {},
     "output_type": "execute_result"
    }
   ],
   "source": [
    "MedianHI['MedianHouseholdIncome'].describe()"
   ]
  },
  {
   "cell_type": "code",
   "execution_count": 8,
   "id": "ad85f105-7cce-48fc-b669-f10d139f4202",
   "metadata": {},
   "outputs": [],
   "source": [
    "from sklearn.impute import SimpleImputer"
   ]
  },
  {
   "cell_type": "code",
   "execution_count": 9,
   "id": "110eee84-6f44-47b3-b3fb-adcb8472aa54",
   "metadata": {},
   "outputs": [],
   "source": [
    "imputer = SimpleImputer(missing_values = np.nan,strategy = 'mean')"
   ]
  },
  {
   "cell_type": "code",
   "execution_count": 10,
   "id": "ca635e00-38fd-4b95-9a3e-75fce2a1bf95",
   "metadata": {},
   "outputs": [
    {
     "name": "stdout",
     "output_type": "stream",
     "text": [
      "<class 'pandas.core.frame.DataFrame'>\n",
      "RangeIndex: 31 entries, 0 to 30\n",
      "Data columns (total 2 columns):\n",
      " #   Column                 Non-Null Count  Dtype \n",
      "---  ------                 --------------  ----- \n",
      " 0   Date                   31 non-null     object\n",
      " 1   MedianHouseholdIncome  31 non-null     object\n",
      "dtypes: object(2)\n",
      "memory usage: 624.0+ bytes\n"
     ]
    }
   ],
   "source": [
    "MedianHI.info()"
   ]
  },
  {
   "cell_type": "code",
   "execution_count": 11,
   "id": "e6445afc-ea0b-4992-a54b-b4ec45de1a8f",
   "metadata": {},
   "outputs": [],
   "source": [
    "import datetime as dt"
   ]
  },
  {
   "cell_type": "code",
   "execution_count": 12,
   "id": "0713da37-24c1-4240-83cd-1ddb32b16518",
   "metadata": {},
   "outputs": [],
   "source": [
    "MedianHI['Date'] = pd.to_datetime(MedianHI['Date'])"
   ]
  },
  {
   "cell_type": "code",
   "execution_count": 13,
   "id": "5d77831a-22dc-4be1-bc9d-56c470b49b98",
   "metadata": {},
   "outputs": [
    {
     "name": "stdout",
     "output_type": "stream",
     "text": [
      "<class 'pandas.core.frame.DataFrame'>\n",
      "RangeIndex: 31 entries, 0 to 30\n",
      "Data columns (total 2 columns):\n",
      " #   Column                 Non-Null Count  Dtype         \n",
      "---  ------                 --------------  -----         \n",
      " 0   Date                   31 non-null     datetime64[ns]\n",
      " 1   MedianHouseholdIncome  31 non-null     object        \n",
      "dtypes: datetime64[ns](1), object(1)\n",
      "memory usage: 624.0+ bytes\n"
     ]
    }
   ],
   "source": [
    "MedianHI.info()"
   ]
  },
  {
   "cell_type": "code",
   "execution_count": 14,
   "id": "c26f49b8-ec48-4cfa-a353-284b8a9fc5de",
   "metadata": {},
   "outputs": [],
   "source": [
    "def convertMHI(val):\n",
    "    MedianHInew = val.replace('.','')\n",
    "    return int(MedianHInew)\n"
   ]
  },
  {
   "cell_type": "code",
   "execution_count": 15,
   "id": "0c984059-33b9-40e3-b327-de67c64f87b0",
   "metadata": {},
   "outputs": [
    {
     "name": "stdout",
     "output_type": "stream",
     "text": [
      "[False  True  True  True False  True False  True False False False False\n",
      " False False False False False False False False False False False False\n",
      " False False False False False False False]\n"
     ]
    }
   ],
   "source": [
    "MedianHInew = np.where(MedianHI['MedianHouseholdIncome'] == '.',True,False)\n",
    "print(MedianHInew)"
   ]
  },
  {
   "cell_type": "code",
   "execution_count": 16,
   "id": "aa08d7ec-189d-4fb4-8745-c02c610cb491",
   "metadata": {},
   "outputs": [
    {
     "data": {
      "text/plain": [
       "0     26778.0\n",
       "1         NaN\n",
       "2         NaN\n",
       "3         NaN\n",
       "4     29759.0\n",
       "5         NaN\n",
       "6     34966.0\n",
       "7         NaN\n",
       "8     38225.0\n",
       "9     40038.0\n",
       "10    40608.0\n",
       "11    43153.0\n",
       "12    42422.0\n",
       "13    41553.0\n",
       "14    41781.0\n",
       "15    42334.0\n",
       "16    43055.0\n",
       "17    45542.0\n",
       "18    48876.0\n",
       "19    51372.0\n",
       "20    50604.0\n",
       "21    48018.0\n",
       "22    46989.0\n",
       "23    51580.0\n",
       "24    53624.0\n",
       "25    53519.0\n",
       "26    58764.0\n",
       "27    62292.0\n",
       "28    63587.0\n",
       "29    70756.0\n",
       "30    72469.0\n",
       "Name: MedianHouseholdIncome, dtype: float64"
      ]
     },
     "execution_count": 16,
     "metadata": {},
     "output_type": "execute_result"
    }
   ],
   "source": [
    "pd.to_numeric(MedianHI['MedianHouseholdIncome'],errors = \"coerce\")  "
   ]
  },
  {
   "cell_type": "code",
   "execution_count": 17,
   "id": "8779f506-d373-406a-b438-f7dd24cbce06",
   "metadata": {},
   "outputs": [
    {
     "name": "stdout",
     "output_type": "stream",
     "text": [
      "         Date  MedianHouseholdIncome\n",
      "0  1989-01-01                26778.0\n",
      "1  1990-01-01                    NaN\n",
      "2  1991-01-01                    NaN\n",
      "3  1992-01-01                    NaN\n",
      "4  1993-01-01                29759.0\n",
      "5  1994-01-01                    NaN\n",
      "6  1995-01-01                34966.0\n",
      "7  1996-01-01                    NaN\n",
      "8  1997-01-01                38225.0\n",
      "9  1998-01-01                40038.0\n",
      "10 1999-01-01                40608.0\n",
      "11 2000-01-01                43153.0\n",
      "12 2001-01-01                42422.0\n",
      "13 2002-01-01                41553.0\n",
      "14 2003-01-01                41781.0\n",
      "15 2004-01-01                42334.0\n",
      "16 2005-01-01                43055.0\n",
      "17 2006-01-01                45542.0\n",
      "18 2007-01-01                48876.0\n",
      "19 2008-01-01                51372.0\n",
      "20 2009-01-01                50604.0\n",
      "21 2010-01-01                48018.0\n",
      "22 2011-01-01                46989.0\n",
      "23 2012-01-01                51580.0\n",
      "24 2013-01-01                53624.0\n",
      "25 2014-01-01                53519.0\n",
      "26 2015-01-01                58764.0\n",
      "27 2016-01-01                62292.0\n",
      "28 2017-01-01                63587.0\n",
      "29 2018-01-01                70756.0\n",
      "30 2019-01-01                72469.0\n"
     ]
    }
   ],
   "source": [
    "for x in MedianHI:\n",
    "    MedianHI['MedianHouseholdIncome'] = pd.to_numeric(MedianHI['MedianHouseholdIncome'],errors = \"coerce\")\n",
    "print(MedianHI)"
   ]
  },
  {
   "cell_type": "code",
   "execution_count": 18,
   "id": "15e97464-94ec-454b-afb9-26abdc29ec41",
   "metadata": {},
   "outputs": [],
   "source": [
    "MedianHIclean = MedianHI.dropna()"
   ]
  },
  {
   "cell_type": "code",
   "execution_count": 19,
   "id": "32c35286-97cc-4e75-be4c-7990e14e6a1c",
   "metadata": {},
   "outputs": [
    {
     "name": "stdout",
     "output_type": "stream",
     "text": [
      "         Date  MedianHouseholdIncome\n",
      "0  1989-01-01                  26778\n",
      "4  1993-01-01                  29759\n",
      "6  1995-01-01                  34966\n",
      "8  1997-01-01                  38225\n",
      "9  1998-01-01                  40038\n",
      "10 1999-01-01                  40608\n",
      "11 2000-01-01                  43153\n",
      "12 2001-01-01                  42422\n",
      "13 2002-01-01                  41553\n",
      "14 2003-01-01                  41781\n",
      "15 2004-01-01                  42334\n",
      "16 2005-01-01                  43055\n",
      "17 2006-01-01                  45542\n",
      "18 2007-01-01                  48876\n",
      "19 2008-01-01                  51372\n",
      "20 2009-01-01                  50604\n",
      "21 2010-01-01                  48018\n",
      "22 2011-01-01                  46989\n",
      "23 2012-01-01                  51580\n",
      "24 2013-01-01                  53624\n",
      "25 2014-01-01                  53519\n",
      "26 2015-01-01                  58764\n",
      "27 2016-01-01                  62292\n",
      "28 2017-01-01                  63587\n",
      "29 2018-01-01                  70756\n",
      "30 2019-01-01                  72469\n"
     ]
    },
    {
     "name": "stderr",
     "output_type": "stream",
     "text": [
      "<ipython-input-19-6b50a6af969e>:2: SettingWithCopyWarning: \n",
      "A value is trying to be set on a copy of a slice from a DataFrame.\n",
      "Try using .loc[row_indexer,col_indexer] = value instead\n",
      "\n",
      "See the caveats in the documentation: https://pandas.pydata.org/pandas-docs/stable/user_guide/indexing.html#returning-a-view-versus-a-copy\n",
      "  MedianHIclean['MedianHouseholdIncome'] = MedianHIclean['MedianHouseholdIncome'].astype(int)\n"
     ]
    }
   ],
   "source": [
    "for x in MedianHIclean:\n",
    "    MedianHIclean['MedianHouseholdIncome'] = MedianHIclean['MedianHouseholdIncome'].astype(int)\n",
    "print(MedianHIclean)"
   ]
  },
  {
   "cell_type": "code",
   "execution_count": 20,
   "id": "90cad3ff-6bf3-48f0-a2bb-3add8cbf92ed",
   "metadata": {},
   "outputs": [
    {
     "data": {
      "text/plain": [
       "45691"
      ]
     },
     "execution_count": 20,
     "metadata": {},
     "output_type": "execute_result"
    }
   ],
   "source": [
    "max(MedianHIclean['MedianHouseholdIncome']) - min(MedianHIclean['MedianHouseholdIncome'])"
   ]
  },
  {
   "cell_type": "code",
   "execution_count": 21,
   "id": "9bb921af-7eab-45e9-b850-1371ed2a588e",
   "metadata": {
    "tags": []
   },
   "outputs": [],
   "source": [
    "MHIgrowth = ((max(MedianHIclean['MedianHouseholdIncome']) - min(MedianHIclean['MedianHouseholdIncome']))/min(MedianHIclean['MedianHouseholdIncome'])*100)"
   ]
  },
  {
   "cell_type": "code",
   "execution_count": 22,
   "id": "7427224a-fc83-4152-8694-3f99c9106f91",
   "metadata": {},
   "outputs": [
    {
     "name": "stdout",
     "output_type": "stream",
     "text": [
      "170.6288744491747\n"
     ]
    }
   ],
   "source": [
    "print(MHIgrowth)"
   ]
  },
  {
   "cell_type": "code",
   "execution_count": 23,
   "id": "2c3d253d-73f5-4603-9467-1ea7e1f2047a",
   "metadata": {},
   "outputs": [],
   "source": [
    "import matplotlib.pyplot as plt"
   ]
  },
  {
   "cell_type": "code",
   "execution_count": 24,
   "id": "4c330f29-76fb-4d6f-a0e5-66aa011630a7",
   "metadata": {},
   "outputs": [],
   "source": [
    "Burdened = pd.read_csv('/Users/ianmonroe/Desktop/Burdened Households Multnomah.csv')"
   ]
  },
  {
   "cell_type": "code",
   "execution_count": 25,
   "id": "d1407877-f0d1-4e01-9105-436a7a0ce396",
   "metadata": {},
   "outputs": [
    {
     "name": "stdout",
     "output_type": "stream",
     "text": [
      "<class 'pandas.core.frame.DataFrame'>\n",
      "RangeIndex: 10 entries, 0 to 9\n",
      "Data columns (total 2 columns):\n",
      " #   Column         Non-Null Count  Dtype  \n",
      "---  ------         --------------  -----  \n",
      " 0   DATE           10 non-null     object \n",
      " 1   DP04ACS041051  10 non-null     float64\n",
      "dtypes: float64(1), object(1)\n",
      "memory usage: 288.0+ bytes\n"
     ]
    },
    {
     "data": {
      "text/html": [
       "<div>\n",
       "<style scoped>\n",
       "    .dataframe tbody tr th:only-of-type {\n",
       "        vertical-align: middle;\n",
       "    }\n",
       "\n",
       "    .dataframe tbody tr th {\n",
       "        vertical-align: top;\n",
       "    }\n",
       "\n",
       "    .dataframe thead th {\n",
       "        text-align: right;\n",
       "    }\n",
       "</style>\n",
       "<table border=\"1\" class=\"dataframe\">\n",
       "  <thead>\n",
       "    <tr style=\"text-align: right;\">\n",
       "      <th></th>\n",
       "      <th>DP04ACS041051</th>\n",
       "    </tr>\n",
       "  </thead>\n",
       "  <tbody>\n",
       "    <tr>\n",
       "      <th>count</th>\n",
       "      <td>10.000000</td>\n",
       "    </tr>\n",
       "    <tr>\n",
       "      <th>mean</th>\n",
       "      <td>41.766389</td>\n",
       "    </tr>\n",
       "    <tr>\n",
       "      <th>std</th>\n",
       "      <td>2.236333</td>\n",
       "    </tr>\n",
       "    <tr>\n",
       "      <th>min</th>\n",
       "      <td>37.718452</td>\n",
       "    </tr>\n",
       "    <tr>\n",
       "      <th>25%</th>\n",
       "      <td>40.269593</td>\n",
       "    </tr>\n",
       "    <tr>\n",
       "      <th>50%</th>\n",
       "      <td>42.528136</td>\n",
       "    </tr>\n",
       "    <tr>\n",
       "      <th>75%</th>\n",
       "      <td>43.560723</td>\n",
       "    </tr>\n",
       "    <tr>\n",
       "      <th>max</th>\n",
       "      <td>44.350556</td>\n",
       "    </tr>\n",
       "  </tbody>\n",
       "</table>\n",
       "</div>"
      ],
      "text/plain": [
       "       DP04ACS041051\n",
       "count      10.000000\n",
       "mean       41.766389\n",
       "std         2.236333\n",
       "min        37.718452\n",
       "25%        40.269593\n",
       "50%        42.528136\n",
       "75%        43.560723\n",
       "max        44.350556"
      ]
     },
     "execution_count": 25,
     "metadata": {},
     "output_type": "execute_result"
    }
   ],
   "source": [
    "Burdened.info()\n",
    "Burdened.describe()"
   ]
  },
  {
   "cell_type": "code",
   "execution_count": 26,
   "id": "b8357e60-7f15-4a0f-aed1-622e1dccb11c",
   "metadata": {},
   "outputs": [
    {
     "name": "stdout",
     "output_type": "stream",
     "text": [
      "         Date  Percentageburdened\n",
      "0  2010-01-01           43.737783\n",
      "1  2011-01-01           44.350556\n",
      "2  2012-01-01           43.681692\n",
      "3  2013-01-01           43.197817\n",
      "4  2014-01-01           43.064114\n",
      "5  2015-01-01           41.992158\n",
      "6  2016-01-01           40.544391\n",
      "7  2017-01-01           40.177993\n",
      "8  2018-01-01           39.198933\n",
      "9  2019-01-01           37.718452\n"
     ]
    }
   ],
   "source": [
    "Burdened.rename(columns={'DATE':'Date','DP04ACS041051':'Percentageburdened'},inplace=True)\n",
    "print(Burdened)"
   ]
  },
  {
   "cell_type": "code",
   "execution_count": 27,
   "id": "d0905f6f-b188-4cac-9dbe-7c9465732490",
   "metadata": {},
   "outputs": [
    {
     "name": "stdout",
     "output_type": "stream",
     "text": [
      "        Date  Percentageburdened\n",
      "0 2010-01-01           43.737783\n",
      "1 2011-01-01           44.350556\n",
      "2 2012-01-01           43.681692\n",
      "3 2013-01-01           43.197817\n",
      "4 2014-01-01           43.064114\n",
      "5 2015-01-01           41.992158\n",
      "6 2016-01-01           40.544391\n",
      "7 2017-01-01           40.177993\n",
      "8 2018-01-01           39.198933\n",
      "9 2019-01-01           37.718452\n"
     ]
    }
   ],
   "source": [
    "Burdened['Date'] = pd.to_datetime(Burdened['Date'])\n",
    "print(Burdened)"
   ]
  },
  {
   "cell_type": "code",
   "execution_count": 28,
   "id": "a74164b3-1569-477a-899d-0ebdc9502fab",
   "metadata": {},
   "outputs": [
    {
     "name": "stdout",
     "output_type": "stream",
     "text": [
      "<class 'pandas.core.frame.DataFrame'>\n",
      "RangeIndex: 10 entries, 0 to 9\n",
      "Data columns (total 2 columns):\n",
      " #   Column              Non-Null Count  Dtype         \n",
      "---  ------              --------------  -----         \n",
      " 0   Date                10 non-null     datetime64[ns]\n",
      " 1   Percentageburdened  10 non-null     float64       \n",
      "dtypes: datetime64[ns](1), float64(1)\n",
      "memory usage: 288.0 bytes\n"
     ]
    }
   ],
   "source": [
    "Burdened.info()"
   ]
  },
  {
   "cell_type": "code",
   "execution_count": 29,
   "id": "8decaddd-547a-443b-a842-a5f71ed13af5",
   "metadata": {},
   "outputs": [
    {
     "data": {
      "text/plain": [
       "'-6.02'"
      ]
     },
     "execution_count": 29,
     "metadata": {},
     "output_type": "execute_result"
    }
   ],
   "source": [
    "Burd_dec = ((Burdened['Percentageburdened'].iloc[-1]) - (Burdened['Percentageburdened'].iloc[0]))\n",
    "Burd_dec = f\"{Burd_dec:.2f}\"\n",
    "Burd_dec"
   ]
  },
  {
   "cell_type": "code",
   "execution_count": 30,
   "id": "6b350ec4-a117-4d63-a787-575fecb15fe8",
   "metadata": {},
   "outputs": [
    {
     "name": "stdout",
     "output_type": "stream",
     "text": [
      "          DATE  S1501ACSTOTAL041051\n",
      "0   2009-01-01                 43.3\n",
      "1   2010-01-01                 44.2\n",
      "2   2011-01-01                 45.0\n",
      "3   2012-01-01                 46.0\n",
      "4   2013-01-01                 46.9\n",
      "5   2014-01-01                 47.7\n",
      "6   2015-01-01                 48.8\n",
      "7   2016-01-01                 50.1\n",
      "8   2017-01-01                 51.3\n",
      "9   2018-01-01                 52.0\n",
      "10  2019-01-01                 53.1\n"
     ]
    }
   ],
   "source": [
    "Educated = pd.read_csv('/Users/ianmonroe/Desktop/25 older associates mult.csv')\n",
    "print(Educated)"
   ]
  },
  {
   "cell_type": "code",
   "execution_count": 31,
   "id": "206009cd-3f74-45d1-90f5-8826f9e3a0a6",
   "metadata": {},
   "outputs": [],
   "source": [
    "Educated = Educated.rename(columns = {'DATE':'Date','S1501ACSTOTAL041051':'Associates'})"
   ]
  },
  {
   "cell_type": "code",
   "execution_count": 32,
   "id": "b48e2846-e15b-4738-8a15-0d0e10a255e5",
   "metadata": {},
   "outputs": [
    {
     "data": {
      "text/html": [
       "<div>\n",
       "<style scoped>\n",
       "    .dataframe tbody tr th:only-of-type {\n",
       "        vertical-align: middle;\n",
       "    }\n",
       "\n",
       "    .dataframe tbody tr th {\n",
       "        vertical-align: top;\n",
       "    }\n",
       "\n",
       "    .dataframe thead th {\n",
       "        text-align: right;\n",
       "    }\n",
       "</style>\n",
       "<table border=\"1\" class=\"dataframe\">\n",
       "  <thead>\n",
       "    <tr style=\"text-align: right;\">\n",
       "      <th></th>\n",
       "      <th>Date</th>\n",
       "      <th>Associates</th>\n",
       "    </tr>\n",
       "  </thead>\n",
       "  <tbody>\n",
       "    <tr>\n",
       "      <th>0</th>\n",
       "      <td>2009-01-01</td>\n",
       "      <td>43.3</td>\n",
       "    </tr>\n",
       "    <tr>\n",
       "      <th>1</th>\n",
       "      <td>2010-01-01</td>\n",
       "      <td>44.2</td>\n",
       "    </tr>\n",
       "    <tr>\n",
       "      <th>2</th>\n",
       "      <td>2011-01-01</td>\n",
       "      <td>45.0</td>\n",
       "    </tr>\n",
       "    <tr>\n",
       "      <th>3</th>\n",
       "      <td>2012-01-01</td>\n",
       "      <td>46.0</td>\n",
       "    </tr>\n",
       "    <tr>\n",
       "      <th>4</th>\n",
       "      <td>2013-01-01</td>\n",
       "      <td>46.9</td>\n",
       "    </tr>\n",
       "    <tr>\n",
       "      <th>5</th>\n",
       "      <td>2014-01-01</td>\n",
       "      <td>47.7</td>\n",
       "    </tr>\n",
       "    <tr>\n",
       "      <th>6</th>\n",
       "      <td>2015-01-01</td>\n",
       "      <td>48.8</td>\n",
       "    </tr>\n",
       "    <tr>\n",
       "      <th>7</th>\n",
       "      <td>2016-01-01</td>\n",
       "      <td>50.1</td>\n",
       "    </tr>\n",
       "    <tr>\n",
       "      <th>8</th>\n",
       "      <td>2017-01-01</td>\n",
       "      <td>51.3</td>\n",
       "    </tr>\n",
       "    <tr>\n",
       "      <th>9</th>\n",
       "      <td>2018-01-01</td>\n",
       "      <td>52.0</td>\n",
       "    </tr>\n",
       "    <tr>\n",
       "      <th>10</th>\n",
       "      <td>2019-01-01</td>\n",
       "      <td>53.1</td>\n",
       "    </tr>\n",
       "  </tbody>\n",
       "</table>\n",
       "</div>"
      ],
      "text/plain": [
       "          Date  Associates\n",
       "0   2009-01-01        43.3\n",
       "1   2010-01-01        44.2\n",
       "2   2011-01-01        45.0\n",
       "3   2012-01-01        46.0\n",
       "4   2013-01-01        46.9\n",
       "5   2014-01-01        47.7\n",
       "6   2015-01-01        48.8\n",
       "7   2016-01-01        50.1\n",
       "8   2017-01-01        51.3\n",
       "9   2018-01-01        52.0\n",
       "10  2019-01-01        53.1"
      ]
     },
     "execution_count": 32,
     "metadata": {},
     "output_type": "execute_result"
    }
   ],
   "source": [
    "Educated"
   ]
  },
  {
   "cell_type": "code",
   "execution_count": 33,
   "id": "99b89954-2f84-41b7-9cd1-4e439c2f7f45",
   "metadata": {},
   "outputs": [
    {
     "name": "stdout",
     "output_type": "stream",
     "text": [
      "<class 'pandas.core.frame.DataFrame'>\n",
      "RangeIndex: 11 entries, 0 to 10\n",
      "Data columns (total 2 columns):\n",
      " #   Column      Non-Null Count  Dtype         \n",
      "---  ------      --------------  -----         \n",
      " 0   Date        11 non-null     datetime64[ns]\n",
      " 1   Associates  11 non-null     float64       \n",
      "dtypes: datetime64[ns](1), float64(1)\n",
      "memory usage: 304.0 bytes\n"
     ]
    }
   ],
   "source": [
    "Educated['Date'] = pd.to_datetime(Educated['Date'])\n",
    "Educated.info()"
   ]
  },
  {
   "cell_type": "code",
   "execution_count": 34,
   "id": "755e0560-33a9-4b9a-9589-20ac6b26f192",
   "metadata": {},
   "outputs": [
    {
     "name": "stdout",
     "output_type": "stream",
     "text": [
      "         DATE  2020RATIO041051\n",
      "0  2010-01-01        15.614588\n",
      "1  2011-01-01        15.949927\n",
      "2  2012-01-01        16.251869\n",
      "3  2013-01-01        16.672212\n",
      "4  2014-01-01        17.331961\n",
      "5  2015-01-01        17.310903\n",
      "6  2016-01-01        17.405963\n",
      "7  2017-01-01        17.478169\n",
      "8  2018-01-01        16.999243\n",
      "9  2019-01-01        16.425600\n"
     ]
    }
   ],
   "source": [
    "Inc_ineq = pd.read_csv('/Users/ianmonroe/Desktop/Income Inequality Multnomah.csv')\n",
    "print(Inc_ineq)"
   ]
  },
  {
   "cell_type": "code",
   "execution_count": 35,
   "id": "2667499f-d50a-4eeb-a8fe-6fda4577718b",
   "metadata": {},
   "outputs": [
    {
     "name": "stdout",
     "output_type": "stream",
     "text": [
      "         Date  Inc_ineq_ratio\n",
      "0  2010-01-01       15.614588\n",
      "1  2011-01-01       15.949927\n",
      "2  2012-01-01       16.251869\n",
      "3  2013-01-01       16.672212\n",
      "4  2014-01-01       17.331961\n",
      "5  2015-01-01       17.310903\n",
      "6  2016-01-01       17.405963\n",
      "7  2017-01-01       17.478169\n",
      "8  2018-01-01       16.999243\n",
      "9  2019-01-01       16.425600\n"
     ]
    }
   ],
   "source": [
    "Inc_ineq = Inc_ineq.rename(columns={'DATE':'Date','2020RATIO041051':'Inc_ineq_ratio'})\n",
    "print(Inc_ineq)"
   ]
  },
  {
   "cell_type": "code",
   "execution_count": 36,
   "id": "1c475652-2948-4f66-99ba-9964251520bb",
   "metadata": {},
   "outputs": [
    {
     "data": {
      "text/html": [
       "<div>\n",
       "<style scoped>\n",
       "    .dataframe tbody tr th:only-of-type {\n",
       "        vertical-align: middle;\n",
       "    }\n",
       "\n",
       "    .dataframe tbody tr th {\n",
       "        vertical-align: top;\n",
       "    }\n",
       "\n",
       "    .dataframe thead th {\n",
       "        text-align: right;\n",
       "    }\n",
       "</style>\n",
       "<table border=\"1\" class=\"dataframe\">\n",
       "  <thead>\n",
       "    <tr style=\"text-align: right;\">\n",
       "      <th></th>\n",
       "      <th>DATE</th>\n",
       "      <th>BPPRIV041051</th>\n",
       "    </tr>\n",
       "  </thead>\n",
       "  <tbody>\n",
       "    <tr>\n",
       "      <th>0</th>\n",
       "      <td>1990-01-01</td>\n",
       "      <td>2620.0</td>\n",
       "    </tr>\n",
       "    <tr>\n",
       "      <th>1</th>\n",
       "      <td>1991-01-01</td>\n",
       "      <td>2179.0</td>\n",
       "    </tr>\n",
       "    <tr>\n",
       "      <th>2</th>\n",
       "      <td>1992-01-01</td>\n",
       "      <td>2225.0</td>\n",
       "    </tr>\n",
       "    <tr>\n",
       "      <th>3</th>\n",
       "      <td>1993-01-01</td>\n",
       "      <td>2300.0</td>\n",
       "    </tr>\n",
       "    <tr>\n",
       "      <th>4</th>\n",
       "      <td>1994-01-01</td>\n",
       "      <td>2725.0</td>\n",
       "    </tr>\n",
       "    <tr>\n",
       "      <th>5</th>\n",
       "      <td>1995-01-01</td>\n",
       "      <td>2946.0</td>\n",
       "    </tr>\n",
       "    <tr>\n",
       "      <th>6</th>\n",
       "      <td>1996-01-01</td>\n",
       "      <td>4191.0</td>\n",
       "    </tr>\n",
       "    <tr>\n",
       "      <th>7</th>\n",
       "      <td>1997-01-01</td>\n",
       "      <td>4405.0</td>\n",
       "    </tr>\n",
       "    <tr>\n",
       "      <th>8</th>\n",
       "      <td>1998-01-01</td>\n",
       "      <td>4312.0</td>\n",
       "    </tr>\n",
       "    <tr>\n",
       "      <th>9</th>\n",
       "      <td>1999-01-01</td>\n",
       "      <td>3641.0</td>\n",
       "    </tr>\n",
       "    <tr>\n",
       "      <th>10</th>\n",
       "      <td>2000-01-01</td>\n",
       "      <td>2591.0</td>\n",
       "    </tr>\n",
       "    <tr>\n",
       "      <th>11</th>\n",
       "      <td>2001-01-01</td>\n",
       "      <td>2896.0</td>\n",
       "    </tr>\n",
       "    <tr>\n",
       "      <th>12</th>\n",
       "      <td>2002-01-01</td>\n",
       "      <td>3282.0</td>\n",
       "    </tr>\n",
       "    <tr>\n",
       "      <th>13</th>\n",
       "      <td>2003-01-01</td>\n",
       "      <td>4871.0</td>\n",
       "    </tr>\n",
       "    <tr>\n",
       "      <th>14</th>\n",
       "      <td>2004-01-01</td>\n",
       "      <td>3842.0</td>\n",
       "    </tr>\n",
       "    <tr>\n",
       "      <th>15</th>\n",
       "      <td>2005-01-01</td>\n",
       "      <td>4573.0</td>\n",
       "    </tr>\n",
       "    <tr>\n",
       "      <th>16</th>\n",
       "      <td>2006-01-01</td>\n",
       "      <td>4187.0</td>\n",
       "    </tr>\n",
       "    <tr>\n",
       "      <th>17</th>\n",
       "      <td>2007-01-01</td>\n",
       "      <td>4733.0</td>\n",
       "    </tr>\n",
       "    <tr>\n",
       "      <th>18</th>\n",
       "      <td>2008-01-01</td>\n",
       "      <td>3043.0</td>\n",
       "    </tr>\n",
       "    <tr>\n",
       "      <th>19</th>\n",
       "      <td>2009-01-01</td>\n",
       "      <td>1040.0</td>\n",
       "    </tr>\n",
       "    <tr>\n",
       "      <th>20</th>\n",
       "      <td>2010-01-01</td>\n",
       "      <td>1235.0</td>\n",
       "    </tr>\n",
       "    <tr>\n",
       "      <th>21</th>\n",
       "      <td>2011-01-01</td>\n",
       "      <td>1417.0</td>\n",
       "    </tr>\n",
       "    <tr>\n",
       "      <th>22</th>\n",
       "      <td>2012-01-01</td>\n",
       "      <td>2377.0</td>\n",
       "    </tr>\n",
       "    <tr>\n",
       "      <th>23</th>\n",
       "      <td>2013-01-01</td>\n",
       "      <td>3855.0</td>\n",
       "    </tr>\n",
       "    <tr>\n",
       "      <th>24</th>\n",
       "      <td>2014-01-01</td>\n",
       "      <td>5090.0</td>\n",
       "    </tr>\n",
       "    <tr>\n",
       "      <th>25</th>\n",
       "      <td>2015-01-01</td>\n",
       "      <td>4832.0</td>\n",
       "    </tr>\n",
       "    <tr>\n",
       "      <th>26</th>\n",
       "      <td>2016-01-01</td>\n",
       "      <td>5092.0</td>\n",
       "    </tr>\n",
       "    <tr>\n",
       "      <th>27</th>\n",
       "      <td>2017-01-01</td>\n",
       "      <td>7055.0</td>\n",
       "    </tr>\n",
       "    <tr>\n",
       "      <th>28</th>\n",
       "      <td>2018-01-01</td>\n",
       "      <td>6238.0</td>\n",
       "    </tr>\n",
       "    <tr>\n",
       "      <th>29</th>\n",
       "      <td>2019-01-01</td>\n",
       "      <td>6098.0</td>\n",
       "    </tr>\n",
       "    <tr>\n",
       "      <th>30</th>\n",
       "      <td>2020-01-01</td>\n",
       "      <td>2709.0</td>\n",
       "    </tr>\n",
       "  </tbody>\n",
       "</table>\n",
       "</div>"
      ],
      "text/plain": [
       "          DATE  BPPRIV041051\n",
       "0   1990-01-01        2620.0\n",
       "1   1991-01-01        2179.0\n",
       "2   1992-01-01        2225.0\n",
       "3   1993-01-01        2300.0\n",
       "4   1994-01-01        2725.0\n",
       "5   1995-01-01        2946.0\n",
       "6   1996-01-01        4191.0\n",
       "7   1997-01-01        4405.0\n",
       "8   1998-01-01        4312.0\n",
       "9   1999-01-01        3641.0\n",
       "10  2000-01-01        2591.0\n",
       "11  2001-01-01        2896.0\n",
       "12  2002-01-01        3282.0\n",
       "13  2003-01-01        4871.0\n",
       "14  2004-01-01        3842.0\n",
       "15  2005-01-01        4573.0\n",
       "16  2006-01-01        4187.0\n",
       "17  2007-01-01        4733.0\n",
       "18  2008-01-01        3043.0\n",
       "19  2009-01-01        1040.0\n",
       "20  2010-01-01        1235.0\n",
       "21  2011-01-01        1417.0\n",
       "22  2012-01-01        2377.0\n",
       "23  2013-01-01        3855.0\n",
       "24  2014-01-01        5090.0\n",
       "25  2015-01-01        4832.0\n",
       "26  2016-01-01        5092.0\n",
       "27  2017-01-01        7055.0\n",
       "28  2018-01-01        6238.0\n",
       "29  2019-01-01        6098.0\n",
       "30  2020-01-01        2709.0"
      ]
     },
     "execution_count": 36,
     "metadata": {},
     "output_type": "execute_result"
    }
   ],
   "source": [
    "priv_house = pd.read_csv('/Users/ianmonroe/Desktop/New Private housing permits mult.csv')\n",
    "priv_house"
   ]
  },
  {
   "cell_type": "code",
   "execution_count": 37,
   "id": "6e611e5a-f64e-49ef-ad8b-fedd36d0a4f8",
   "metadata": {},
   "outputs": [
    {
     "data": {
      "text/html": [
       "<div>\n",
       "<style scoped>\n",
       "    .dataframe tbody tr th:only-of-type {\n",
       "        vertical-align: middle;\n",
       "    }\n",
       "\n",
       "    .dataframe tbody tr th {\n",
       "        vertical-align: top;\n",
       "    }\n",
       "\n",
       "    .dataframe thead th {\n",
       "        text-align: right;\n",
       "    }\n",
       "</style>\n",
       "<table border=\"1\" class=\"dataframe\">\n",
       "  <thead>\n",
       "    <tr style=\"text-align: right;\">\n",
       "      <th></th>\n",
       "      <th>Date</th>\n",
       "      <th>New_perm</th>\n",
       "    </tr>\n",
       "  </thead>\n",
       "  <tbody>\n",
       "    <tr>\n",
       "      <th>0</th>\n",
       "      <td>1990-01-01</td>\n",
       "      <td>2620.0</td>\n",
       "    </tr>\n",
       "    <tr>\n",
       "      <th>1</th>\n",
       "      <td>1991-01-01</td>\n",
       "      <td>2179.0</td>\n",
       "    </tr>\n",
       "    <tr>\n",
       "      <th>2</th>\n",
       "      <td>1992-01-01</td>\n",
       "      <td>2225.0</td>\n",
       "    </tr>\n",
       "    <tr>\n",
       "      <th>3</th>\n",
       "      <td>1993-01-01</td>\n",
       "      <td>2300.0</td>\n",
       "    </tr>\n",
       "    <tr>\n",
       "      <th>4</th>\n",
       "      <td>1994-01-01</td>\n",
       "      <td>2725.0</td>\n",
       "    </tr>\n",
       "    <tr>\n",
       "      <th>5</th>\n",
       "      <td>1995-01-01</td>\n",
       "      <td>2946.0</td>\n",
       "    </tr>\n",
       "    <tr>\n",
       "      <th>6</th>\n",
       "      <td>1996-01-01</td>\n",
       "      <td>4191.0</td>\n",
       "    </tr>\n",
       "    <tr>\n",
       "      <th>7</th>\n",
       "      <td>1997-01-01</td>\n",
       "      <td>4405.0</td>\n",
       "    </tr>\n",
       "    <tr>\n",
       "      <th>8</th>\n",
       "      <td>1998-01-01</td>\n",
       "      <td>4312.0</td>\n",
       "    </tr>\n",
       "    <tr>\n",
       "      <th>9</th>\n",
       "      <td>1999-01-01</td>\n",
       "      <td>3641.0</td>\n",
       "    </tr>\n",
       "    <tr>\n",
       "      <th>10</th>\n",
       "      <td>2000-01-01</td>\n",
       "      <td>2591.0</td>\n",
       "    </tr>\n",
       "    <tr>\n",
       "      <th>11</th>\n",
       "      <td>2001-01-01</td>\n",
       "      <td>2896.0</td>\n",
       "    </tr>\n",
       "    <tr>\n",
       "      <th>12</th>\n",
       "      <td>2002-01-01</td>\n",
       "      <td>3282.0</td>\n",
       "    </tr>\n",
       "    <tr>\n",
       "      <th>13</th>\n",
       "      <td>2003-01-01</td>\n",
       "      <td>4871.0</td>\n",
       "    </tr>\n",
       "    <tr>\n",
       "      <th>14</th>\n",
       "      <td>2004-01-01</td>\n",
       "      <td>3842.0</td>\n",
       "    </tr>\n",
       "    <tr>\n",
       "      <th>15</th>\n",
       "      <td>2005-01-01</td>\n",
       "      <td>4573.0</td>\n",
       "    </tr>\n",
       "    <tr>\n",
       "      <th>16</th>\n",
       "      <td>2006-01-01</td>\n",
       "      <td>4187.0</td>\n",
       "    </tr>\n",
       "    <tr>\n",
       "      <th>17</th>\n",
       "      <td>2007-01-01</td>\n",
       "      <td>4733.0</td>\n",
       "    </tr>\n",
       "    <tr>\n",
       "      <th>18</th>\n",
       "      <td>2008-01-01</td>\n",
       "      <td>3043.0</td>\n",
       "    </tr>\n",
       "    <tr>\n",
       "      <th>19</th>\n",
       "      <td>2009-01-01</td>\n",
       "      <td>1040.0</td>\n",
       "    </tr>\n",
       "    <tr>\n",
       "      <th>20</th>\n",
       "      <td>2010-01-01</td>\n",
       "      <td>1235.0</td>\n",
       "    </tr>\n",
       "    <tr>\n",
       "      <th>21</th>\n",
       "      <td>2011-01-01</td>\n",
       "      <td>1417.0</td>\n",
       "    </tr>\n",
       "    <tr>\n",
       "      <th>22</th>\n",
       "      <td>2012-01-01</td>\n",
       "      <td>2377.0</td>\n",
       "    </tr>\n",
       "    <tr>\n",
       "      <th>23</th>\n",
       "      <td>2013-01-01</td>\n",
       "      <td>3855.0</td>\n",
       "    </tr>\n",
       "    <tr>\n",
       "      <th>24</th>\n",
       "      <td>2014-01-01</td>\n",
       "      <td>5090.0</td>\n",
       "    </tr>\n",
       "    <tr>\n",
       "      <th>25</th>\n",
       "      <td>2015-01-01</td>\n",
       "      <td>4832.0</td>\n",
       "    </tr>\n",
       "    <tr>\n",
       "      <th>26</th>\n",
       "      <td>2016-01-01</td>\n",
       "      <td>5092.0</td>\n",
       "    </tr>\n",
       "    <tr>\n",
       "      <th>27</th>\n",
       "      <td>2017-01-01</td>\n",
       "      <td>7055.0</td>\n",
       "    </tr>\n",
       "    <tr>\n",
       "      <th>28</th>\n",
       "      <td>2018-01-01</td>\n",
       "      <td>6238.0</td>\n",
       "    </tr>\n",
       "    <tr>\n",
       "      <th>29</th>\n",
       "      <td>2019-01-01</td>\n",
       "      <td>6098.0</td>\n",
       "    </tr>\n",
       "    <tr>\n",
       "      <th>30</th>\n",
       "      <td>2020-01-01</td>\n",
       "      <td>2709.0</td>\n",
       "    </tr>\n",
       "  </tbody>\n",
       "</table>\n",
       "</div>"
      ],
      "text/plain": [
       "          Date  New_perm\n",
       "0   1990-01-01    2620.0\n",
       "1   1991-01-01    2179.0\n",
       "2   1992-01-01    2225.0\n",
       "3   1993-01-01    2300.0\n",
       "4   1994-01-01    2725.0\n",
       "5   1995-01-01    2946.0\n",
       "6   1996-01-01    4191.0\n",
       "7   1997-01-01    4405.0\n",
       "8   1998-01-01    4312.0\n",
       "9   1999-01-01    3641.0\n",
       "10  2000-01-01    2591.0\n",
       "11  2001-01-01    2896.0\n",
       "12  2002-01-01    3282.0\n",
       "13  2003-01-01    4871.0\n",
       "14  2004-01-01    3842.0\n",
       "15  2005-01-01    4573.0\n",
       "16  2006-01-01    4187.0\n",
       "17  2007-01-01    4733.0\n",
       "18  2008-01-01    3043.0\n",
       "19  2009-01-01    1040.0\n",
       "20  2010-01-01    1235.0\n",
       "21  2011-01-01    1417.0\n",
       "22  2012-01-01    2377.0\n",
       "23  2013-01-01    3855.0\n",
       "24  2014-01-01    5090.0\n",
       "25  2015-01-01    4832.0\n",
       "26  2016-01-01    5092.0\n",
       "27  2017-01-01    7055.0\n",
       "28  2018-01-01    6238.0\n",
       "29  2019-01-01    6098.0\n",
       "30  2020-01-01    2709.0"
      ]
     },
     "execution_count": 37,
     "metadata": {},
     "output_type": "execute_result"
    }
   ],
   "source": [
    "priv_house = priv_house.rename(columns = {'DATE':'Date','BPPRIV041051':'New_perm'})\n",
    "priv_house"
   ]
  },
  {
   "cell_type": "code",
   "execution_count": 38,
   "id": "df65580e-744b-4393-92b1-b084bdb3d33d",
   "metadata": {},
   "outputs": [
    {
     "name": "stdout",
     "output_type": "stream",
     "text": [
      "<class 'pandas.core.frame.DataFrame'>\n",
      "RangeIndex: 31 entries, 0 to 30\n",
      "Data columns (total 2 columns):\n",
      " #   Column    Non-Null Count  Dtype         \n",
      "---  ------    --------------  -----         \n",
      " 0   Date      31 non-null     datetime64[ns]\n",
      " 1   New_perm  31 non-null     float64       \n",
      "dtypes: datetime64[ns](1), float64(1)\n",
      "memory usage: 624.0 bytes\n"
     ]
    }
   ],
   "source": [
    "priv_house['Date'] = pd.to_datetime(priv_house['Date'])\n",
    "priv_house.info()"
   ]
  },
  {
   "cell_type": "code",
   "execution_count": 39,
   "id": "930cc22a-2ab4-47c8-8000-770e85fb9e4c",
   "metadata": {},
   "outputs": [
    {
     "name": "stdout",
     "output_type": "stream",
     "text": [
      "23.32\n"
     ]
    }
   ],
   "source": [
    "MHI2010 = ((MedianHIclean['MedianHouseholdIncome'].iloc[-1] - MedianHIclean['MedianHouseholdIncome'].iloc[21])/(MedianHIclean['MedianHouseholdIncome'].iloc[21])*100)\n",
    "MHI2010 = f\"{MHI2010:.2f}\"\n",
    "print(MHI2010)"
   ]
  },
  {
   "cell_type": "code",
   "execution_count": 40,
   "id": "b2f0378e-8745-40de-a403-d43d70e7d5f4",
   "metadata": {},
   "outputs": [
    {
     "name": "stdout",
     "output_type": "stream",
     "text": [
      "9.80\n"
     ]
    }
   ],
   "source": [
    "Edu_grow = (Educated['Associates'].iloc[-1] - Educated['Associates'].iloc[0])\n",
    "Edu_grow = f\"{Edu_grow:.2f}\"\n",
    "print(Edu_grow)"
   ]
  },
  {
   "cell_type": "code",
   "execution_count": 41,
   "id": "17f4bede-447c-4c66-b653-295a02ae48bd",
   "metadata": {},
   "outputs": [
    {
     "name": "stdout",
     "output_type": "stream",
     "text": [
      "0.81\n"
     ]
    }
   ],
   "source": [
    "Inc_ineq_grow = (Inc_ineq['Inc_ineq_ratio'].iloc[-1]-Inc_ineq['Inc_ineq_ratio'].iloc[0])\n",
    "Inc_ineqg = f\"{Inc_ineq_grow:.2f}\"\n",
    "print(Inc_ineqg)"
   ]
  },
  {
   "cell_type": "code",
   "execution_count": 42,
   "id": "5356cc58-fdda-4abc-ad2c-cb5eecd42f64",
   "metadata": {},
   "outputs": [
    {
     "data": {
      "text/plain": [
       "'-123.70'"
      ]
     },
     "execution_count": 42,
     "metadata": {},
     "output_type": "execute_result"
    }
   ],
   "source": [
    "migr = pd.read_csv('/Users/ianmonroe/Desktop/Net County to county migr. flow Mult .csv')\n",
    "migr = migr.rename(columns = {'DATE':'Date','NETMIGNACS041051':'Netmigr'})\n",
    "migr['Date'] = pd.to_datetime(migr['Date'])\n",
    "migrchg = ((migr['Netmigr'].iloc[-1] - migr['Netmigr'].iloc[1])/migr['Netmigr'].iloc[1])*100\n",
    "migrchg = f\"{migrchg:.2f}\"\n",
    "migrchg\n"
   ]
  },
  {
   "cell_type": "code",
   "execution_count": 43,
   "id": "84495fff-4b1e-47ae-b33f-fd86c1002a96",
   "metadata": {},
   "outputs": [
    {
     "name": "stdout",
     "output_type": "stream",
     "text": [
      "Demographic Data:\n",
      "The Median Household Income has grown 170.63 % between 1989 and 2019.\n",
      "The Median Household Income has grown 23.32 % betweeen 2010 and 2019.\n",
      "The percentage of the population aged 25 and older with an Associates degree has increased 9.80 % between 2010 and 2019.\n",
      "Income Inequality has grown 0.81 % since 2010.\n",
      "Net migration to Multnomah County has changed -123.70 % between 2010 and 2019.\n"
     ]
    }
   ],
   "source": [
    "MHIgrow = f\"{MHIgrowth:.2f}\"\n",
    "MHIG = float(MHIgrow)\n",
    "print('Demographic Data:')\n",
    "print ('The Median Household Income has grown',(MHIG),'% between 1989 and 2019.')\n",
    "print('The Median Household Income has grown',(MHI2010),'% betweeen 2010 and 2019.')\n",
    "print('The percentage of the population aged 25 and older with an Associates degree has increased',(Edu_grow),'% between 2010 and 2019.')\n",
    "print('Income Inequality has grown',(Inc_ineqg),'% since 2010.')\n",
    "print('Net migration to Multnomah County has changed',(migrchg),'% between 2010 and 2019.')"
   ]
  },
  {
   "cell_type": "code",
   "execution_count": 44,
   "id": "b2c8eac2-a751-42a1-9454-019d5542eada",
   "metadata": {},
   "outputs": [],
   "source": [
    "privhg = (((priv_house['New_perm'].iloc[-2]) - (priv_house['New_perm'].iloc[20]))/(priv_house['New_perm'].iloc[20]))*100\n",
    "privhg = f\"{privhg:.2f}\"\n",
    "\n",
    "    "
   ]
  },
  {
   "cell_type": "code",
   "execution_count": 45,
   "id": "6aac6a20-2e35-4a91-bdb1-a9d31a6c5936",
   "metadata": {},
   "outputs": [
    {
     "name": "stdout",
     "output_type": "stream",
     "text": [
      "Housing Data:\n",
      "Between 2010 and 2019, New Private Housing Permits increased 393.77 %. With that being said, this metric is very volatile, with a standard deviation of 1480 between 1990 and 2020.\n",
      "The number of Burdened Households has fallen by -6.02 %between 2010 and 2019\n"
     ]
    }
   ],
   "source": [
    "print('Housing Data:')\n",
    "print('Between 2010 and 2019, New Private Housing Permits increased',(privhg),'%. With that being said, this metric is very volatile, with a standard deviation of 1480 between 1990 and 2020.')\n",
    "print('The number of Burdened Households has fallen by',(Burd_dec),'%between 2010 and 2019')"
   ]
  },
  {
   "cell_type": "code",
   "execution_count": 50,
   "id": "df43852e-6526-4282-a25d-1100e1bc4cf2",
   "metadata": {},
   "outputs": [
    {
     "data": {
      "text/html": [
       "<div>\n",
       "<style scoped>\n",
       "    .dataframe tbody tr th:only-of-type {\n",
       "        vertical-align: middle;\n",
       "    }\n",
       "\n",
       "    .dataframe tbody tr th {\n",
       "        vertical-align: top;\n",
       "    }\n",
       "\n",
       "    .dataframe thead th {\n",
       "        text-align: right;\n",
       "    }\n",
       "</style>\n",
       "<table border=\"1\" class=\"dataframe\">\n",
       "  <thead>\n",
       "    <tr style=\"text-align: right;\">\n",
       "      <th></th>\n",
       "      <th>RegionID</th>\n",
       "      <th>SizeRank</th>\n",
       "      <th>RegionName</th>\n",
       "      <th>RegionType</th>\n",
       "      <th>StateName</th>\n",
       "      <th>2000-01-31</th>\n",
       "      <th>2000-02-29</th>\n",
       "      <th>2000-03-31</th>\n",
       "      <th>2000-04-30</th>\n",
       "      <th>2000-05-31</th>\n",
       "      <th>...</th>\n",
       "      <th>2021-02-28</th>\n",
       "      <th>2021-03-31</th>\n",
       "      <th>2021-04-30</th>\n",
       "      <th>2021-05-31</th>\n",
       "      <th>2021-06-30</th>\n",
       "      <th>2021-07-31</th>\n",
       "      <th>2021-08-31</th>\n",
       "      <th>2021-09-30</th>\n",
       "      <th>2021-10-31</th>\n",
       "      <th>2021-11-30</th>\n",
       "    </tr>\n",
       "  </thead>\n",
       "  <tbody>\n",
       "    <tr>\n",
       "      <th>0</th>\n",
       "      <td>102001</td>\n",
       "      <td>0</td>\n",
       "      <td>United States</td>\n",
       "      <td>Country</td>\n",
       "      <td>NaN</td>\n",
       "      <td>127104.0</td>\n",
       "      <td>127448.0</td>\n",
       "      <td>127809.0</td>\n",
       "      <td>128546.0</td>\n",
       "      <td>129288.0</td>\n",
       "      <td>...</td>\n",
       "      <td>274766.0</td>\n",
       "      <td>278419.0</td>\n",
       "      <td>282276.0</td>\n",
       "      <td>286980.0</td>\n",
       "      <td>292503.0</td>\n",
       "      <td>298382.0</td>\n",
       "      <td>303772.0</td>\n",
       "      <td>308393.0</td>\n",
       "      <td>312486.0</td>\n",
       "      <td>316368.0</td>\n",
       "    </tr>\n",
       "    <tr>\n",
       "      <th>1</th>\n",
       "      <td>394913</td>\n",
       "      <td>1</td>\n",
       "      <td>New York, NY</td>\n",
       "      <td>Msa</td>\n",
       "      <td>NY</td>\n",
       "      <td>223875.0</td>\n",
       "      <td>225213.0</td>\n",
       "      <td>226416.0</td>\n",
       "      <td>228785.0</td>\n",
       "      <td>230991.0</td>\n",
       "      <td>...</td>\n",
       "      <td>520343.0</td>\n",
       "      <td>524700.0</td>\n",
       "      <td>529431.0</td>\n",
       "      <td>534932.0</td>\n",
       "      <td>542083.0</td>\n",
       "      <td>549998.0</td>\n",
       "      <td>557578.0</td>\n",
       "      <td>563469.0</td>\n",
       "      <td>568010.0</td>\n",
       "      <td>571556.0</td>\n",
       "    </tr>\n",
       "    <tr>\n",
       "      <th>2</th>\n",
       "      <td>753899</td>\n",
       "      <td>2</td>\n",
       "      <td>Los Angeles-Long Beach-Anaheim, CA</td>\n",
       "      <td>Msa</td>\n",
       "      <td>CA</td>\n",
       "      <td>231151.0</td>\n",
       "      <td>231956.0</td>\n",
       "      <td>233189.0</td>\n",
       "      <td>235533.0</td>\n",
       "      <td>238046.0</td>\n",
       "      <td>...</td>\n",
       "      <td>748563.0</td>\n",
       "      <td>756432.0</td>\n",
       "      <td>767475.0</td>\n",
       "      <td>783139.0</td>\n",
       "      <td>802944.0</td>\n",
       "      <td>823842.0</td>\n",
       "      <td>837285.0</td>\n",
       "      <td>846395.0</td>\n",
       "      <td>851153.0</td>\n",
       "      <td>858357.0</td>\n",
       "    </tr>\n",
       "    <tr>\n",
       "      <th>3</th>\n",
       "      <td>394463</td>\n",
       "      <td>3</td>\n",
       "      <td>Chicago, IL</td>\n",
       "      <td>Msa</td>\n",
       "      <td>IL</td>\n",
       "      <td>169017.0</td>\n",
       "      <td>169416.0</td>\n",
       "      <td>169932.0</td>\n",
       "      <td>170965.0</td>\n",
       "      <td>172060.0</td>\n",
       "      <td>...</td>\n",
       "      <td>258870.0</td>\n",
       "      <td>260970.0</td>\n",
       "      <td>263993.0</td>\n",
       "      <td>266728.0</td>\n",
       "      <td>270524.0</td>\n",
       "      <td>274664.0</td>\n",
       "      <td>278755.0</td>\n",
       "      <td>281808.0</td>\n",
       "      <td>284452.0</td>\n",
       "      <td>287131.0</td>\n",
       "    </tr>\n",
       "    <tr>\n",
       "      <th>4</th>\n",
       "      <td>394514</td>\n",
       "      <td>4</td>\n",
       "      <td>Dallas-Fort Worth, TX</td>\n",
       "      <td>Msa</td>\n",
       "      <td>TX</td>\n",
       "      <td>130276.0</td>\n",
       "      <td>130380.0</td>\n",
       "      <td>130466.0</td>\n",
       "      <td>130678.0</td>\n",
       "      <td>130900.0</td>\n",
       "      <td>...</td>\n",
       "      <td>280524.0</td>\n",
       "      <td>284541.0</td>\n",
       "      <td>290061.0</td>\n",
       "      <td>296469.0</td>\n",
       "      <td>303787.0</td>\n",
       "      <td>311586.0</td>\n",
       "      <td>319478.0</td>\n",
       "      <td>326661.0</td>\n",
       "      <td>332734.0</td>\n",
       "      <td>338194.0</td>\n",
       "    </tr>\n",
       "    <tr>\n",
       "      <th>...</th>\n",
       "      <td>...</td>\n",
       "      <td>...</td>\n",
       "      <td>...</td>\n",
       "      <td>...</td>\n",
       "      <td>...</td>\n",
       "      <td>...</td>\n",
       "      <td>...</td>\n",
       "      <td>...</td>\n",
       "      <td>...</td>\n",
       "      <td>...</td>\n",
       "      <td>...</td>\n",
       "      <td>...</td>\n",
       "      <td>...</td>\n",
       "      <td>...</td>\n",
       "      <td>...</td>\n",
       "      <td>...</td>\n",
       "      <td>...</td>\n",
       "      <td>...</td>\n",
       "      <td>...</td>\n",
       "      <td>...</td>\n",
       "      <td>...</td>\n",
       "    </tr>\n",
       "    <tr>\n",
       "      <th>903</th>\n",
       "      <td>394767</td>\n",
       "      <td>929</td>\n",
       "      <td>Lamesa, TX</td>\n",
       "      <td>Msa</td>\n",
       "      <td>TX</td>\n",
       "      <td>NaN</td>\n",
       "      <td>NaN</td>\n",
       "      <td>NaN</td>\n",
       "      <td>NaN</td>\n",
       "      <td>NaN</td>\n",
       "      <td>...</td>\n",
       "      <td>82855.0</td>\n",
       "      <td>84208.0</td>\n",
       "      <td>84507.0</td>\n",
       "      <td>85007.0</td>\n",
       "      <td>85454.0</td>\n",
       "      <td>86430.0</td>\n",
       "      <td>87558.0</td>\n",
       "      <td>88618.0</td>\n",
       "      <td>89553.0</td>\n",
       "      <td>90119.0</td>\n",
       "    </tr>\n",
       "    <tr>\n",
       "      <th>904</th>\n",
       "      <td>753874</td>\n",
       "      <td>930</td>\n",
       "      <td>Craig, CO</td>\n",
       "      <td>Msa</td>\n",
       "      <td>CO</td>\n",
       "      <td>94599.0</td>\n",
       "      <td>94943.0</td>\n",
       "      <td>95525.0</td>\n",
       "      <td>96216.0</td>\n",
       "      <td>96930.0</td>\n",
       "      <td>...</td>\n",
       "      <td>213811.0</td>\n",
       "      <td>218896.0</td>\n",
       "      <td>222687.0</td>\n",
       "      <td>226006.0</td>\n",
       "      <td>229443.0</td>\n",
       "      <td>232512.0</td>\n",
       "      <td>236189.0</td>\n",
       "      <td>239474.0</td>\n",
       "      <td>242446.0</td>\n",
       "      <td>244056.0</td>\n",
       "    </tr>\n",
       "    <tr>\n",
       "      <th>905</th>\n",
       "      <td>394968</td>\n",
       "      <td>931</td>\n",
       "      <td>Pecos, TX</td>\n",
       "      <td>Msa</td>\n",
       "      <td>TX</td>\n",
       "      <td>NaN</td>\n",
       "      <td>NaN</td>\n",
       "      <td>NaN</td>\n",
       "      <td>NaN</td>\n",
       "      <td>NaN</td>\n",
       "      <td>...</td>\n",
       "      <td>141850.0</td>\n",
       "      <td>144107.0</td>\n",
       "      <td>146004.0</td>\n",
       "      <td>148185.0</td>\n",
       "      <td>150226.0</td>\n",
       "      <td>152684.0</td>\n",
       "      <td>157771.0</td>\n",
       "      <td>162536.0</td>\n",
       "      <td>167256.0</td>\n",
       "      <td>168297.0</td>\n",
       "    </tr>\n",
       "    <tr>\n",
       "      <th>906</th>\n",
       "      <td>395188</td>\n",
       "      <td>932</td>\n",
       "      <td>Vernon, TX</td>\n",
       "      <td>Msa</td>\n",
       "      <td>TX</td>\n",
       "      <td>NaN</td>\n",
       "      <td>NaN</td>\n",
       "      <td>NaN</td>\n",
       "      <td>NaN</td>\n",
       "      <td>NaN</td>\n",
       "      <td>...</td>\n",
       "      <td>70343.0</td>\n",
       "      <td>71389.0</td>\n",
       "      <td>71751.0</td>\n",
       "      <td>72137.0</td>\n",
       "      <td>72796.0</td>\n",
       "      <td>73494.0</td>\n",
       "      <td>74093.0</td>\n",
       "      <td>74565.0</td>\n",
       "      <td>74896.0</td>\n",
       "      <td>75166.0</td>\n",
       "    </tr>\n",
       "    <tr>\n",
       "      <th>907</th>\n",
       "      <td>394743</td>\n",
       "      <td>933</td>\n",
       "      <td>Ketchikan, AK</td>\n",
       "      <td>Msa</td>\n",
       "      <td>AK</td>\n",
       "      <td>NaN</td>\n",
       "      <td>NaN</td>\n",
       "      <td>NaN</td>\n",
       "      <td>NaN</td>\n",
       "      <td>NaN</td>\n",
       "      <td>...</td>\n",
       "      <td>322481.0</td>\n",
       "      <td>324575.0</td>\n",
       "      <td>326697.0</td>\n",
       "      <td>328863.0</td>\n",
       "      <td>330409.0</td>\n",
       "      <td>331974.0</td>\n",
       "      <td>333699.0</td>\n",
       "      <td>335928.0</td>\n",
       "      <td>337876.0</td>\n",
       "      <td>339435.0</td>\n",
       "    </tr>\n",
       "  </tbody>\n",
       "</table>\n",
       "<p>908 rows × 268 columns</p>\n",
       "</div>"
      ],
      "text/plain": [
       "     RegionID  SizeRank                          RegionName RegionType  \\\n",
       "0      102001         0                       United States    Country   \n",
       "1      394913         1                        New York, NY        Msa   \n",
       "2      753899         2  Los Angeles-Long Beach-Anaheim, CA        Msa   \n",
       "3      394463         3                         Chicago, IL        Msa   \n",
       "4      394514         4               Dallas-Fort Worth, TX        Msa   \n",
       "..        ...       ...                                 ...        ...   \n",
       "903    394767       929                          Lamesa, TX        Msa   \n",
       "904    753874       930                           Craig, CO        Msa   \n",
       "905    394968       931                           Pecos, TX        Msa   \n",
       "906    395188       932                          Vernon, TX        Msa   \n",
       "907    394743       933                       Ketchikan, AK        Msa   \n",
       "\n",
       "    StateName  2000-01-31  2000-02-29  2000-03-31  2000-04-30  2000-05-31  \\\n",
       "0         NaN    127104.0    127448.0    127809.0    128546.0    129288.0   \n",
       "1          NY    223875.0    225213.0    226416.0    228785.0    230991.0   \n",
       "2          CA    231151.0    231956.0    233189.0    235533.0    238046.0   \n",
       "3          IL    169017.0    169416.0    169932.0    170965.0    172060.0   \n",
       "4          TX    130276.0    130380.0    130466.0    130678.0    130900.0   \n",
       "..        ...         ...         ...         ...         ...         ...   \n",
       "903        TX         NaN         NaN         NaN         NaN         NaN   \n",
       "904        CO     94599.0     94943.0     95525.0     96216.0     96930.0   \n",
       "905        TX         NaN         NaN         NaN         NaN         NaN   \n",
       "906        TX         NaN         NaN         NaN         NaN         NaN   \n",
       "907        AK         NaN         NaN         NaN         NaN         NaN   \n",
       "\n",
       "     ...  2021-02-28  2021-03-31  2021-04-30  2021-05-31  2021-06-30  \\\n",
       "0    ...    274766.0    278419.0    282276.0    286980.0    292503.0   \n",
       "1    ...    520343.0    524700.0    529431.0    534932.0    542083.0   \n",
       "2    ...    748563.0    756432.0    767475.0    783139.0    802944.0   \n",
       "3    ...    258870.0    260970.0    263993.0    266728.0    270524.0   \n",
       "4    ...    280524.0    284541.0    290061.0    296469.0    303787.0   \n",
       "..   ...         ...         ...         ...         ...         ...   \n",
       "903  ...     82855.0     84208.0     84507.0     85007.0     85454.0   \n",
       "904  ...    213811.0    218896.0    222687.0    226006.0    229443.0   \n",
       "905  ...    141850.0    144107.0    146004.0    148185.0    150226.0   \n",
       "906  ...     70343.0     71389.0     71751.0     72137.0     72796.0   \n",
       "907  ...    322481.0    324575.0    326697.0    328863.0    330409.0   \n",
       "\n",
       "     2021-07-31  2021-08-31  2021-09-30  2021-10-31  2021-11-30  \n",
       "0      298382.0    303772.0    308393.0    312486.0    316368.0  \n",
       "1      549998.0    557578.0    563469.0    568010.0    571556.0  \n",
       "2      823842.0    837285.0    846395.0    851153.0    858357.0  \n",
       "3      274664.0    278755.0    281808.0    284452.0    287131.0  \n",
       "4      311586.0    319478.0    326661.0    332734.0    338194.0  \n",
       "..          ...         ...         ...         ...         ...  \n",
       "903     86430.0     87558.0     88618.0     89553.0     90119.0  \n",
       "904    232512.0    236189.0    239474.0    242446.0    244056.0  \n",
       "905    152684.0    157771.0    162536.0    167256.0    168297.0  \n",
       "906     73494.0     74093.0     74565.0     74896.0     75166.0  \n",
       "907    331974.0    333699.0    335928.0    337876.0    339435.0  \n",
       "\n",
       "[908 rows x 268 columns]"
      ]
     },
     "execution_count": 50,
     "metadata": {},
     "output_type": "execute_result"
    }
   ],
   "source": [
    "hvalue = pd.read_csv('/Users/ianmonroe/Desktop/PDXhvalue.csv')\n",
    "hvalue"
   ]
  },
  {
   "cell_type": "code",
   "execution_count": 81,
   "id": "1d2b065f-139b-4ff8-9546-6730ee2c52d4",
   "metadata": {},
   "outputs": [],
   "source": [
    "hvalue['RegionName'] = hvalue['RegionName'].astype(str)"
   ]
  },
  {
   "cell_type": "code",
   "execution_count": null,
   "id": "f19463a0-5f7e-439f-9d71-b067f8ce7b80",
   "metadata": {},
   "outputs": [],
   "source": []
  }
 ],
 "metadata": {
  "kernelspec": {
   "display_name": "Python 3",
   "language": "python",
   "name": "python3"
  },
  "language_info": {
   "codemirror_mode": {
    "name": "ipython",
    "version": 3
   },
   "file_extension": ".py",
   "mimetype": "text/x-python",
   "name": "python",
   "nbconvert_exporter": "python",
   "pygments_lexer": "ipython3",
   "version": "3.8.8"
  }
 },
 "nbformat": 4,
 "nbformat_minor": 5
}
